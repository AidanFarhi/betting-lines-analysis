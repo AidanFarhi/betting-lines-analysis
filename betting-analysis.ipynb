{
 "cells": [
  {
   "cell_type": "code",
   "execution_count": 62,
   "metadata": {},
   "outputs": [],
   "source": [
    "import pandas as pd"
   ]
  },
  {
   "attachments": {},
   "cell_type": "markdown",
   "metadata": {},
   "source": [
    "### Load in data and filter"
   ]
  },
  {
   "cell_type": "code",
   "execution_count": 63,
   "metadata": {},
   "outputs": [
    {
     "name": "stderr",
     "output_type": "stream",
     "text": [
      "/var/folders/7z/l4sxmtnn15j9j09zdpq21_vc0000gn/T/ipykernel_33774/2252224643.py:1: FutureWarning: Inferring datetime64[ns] from data containing strings is deprecated and will be removed in a future version. To retain the old behavior explicitly pass Series(data, dtype=datetime64[ns])\n",
      "  df = pd.read_excel('nfl.xlsx')\n"
     ]
    },
    {
     "data": {
      "text/html": [
       "<div>\n",
       "<style scoped>\n",
       "    .dataframe tbody tr th:only-of-type {\n",
       "        vertical-align: middle;\n",
       "    }\n",
       "\n",
       "    .dataframe tbody tr th {\n",
       "        vertical-align: top;\n",
       "    }\n",
       "\n",
       "    .dataframe thead th {\n",
       "        text-align: right;\n",
       "    }\n",
       "</style>\n",
       "<table border=\"1\" class=\"dataframe\">\n",
       "  <thead>\n",
       "    <tr style=\"text-align: right;\">\n",
       "      <th></th>\n",
       "      <th>Home Score</th>\n",
       "      <th>Away Score</th>\n",
       "      <th>Home Line Open</th>\n",
       "      <th>Away Line Open</th>\n",
       "    </tr>\n",
       "  </thead>\n",
       "  <tbody>\n",
       "    <tr>\n",
       "      <th>0</th>\n",
       "      <td>35</td>\n",
       "      <td>38</td>\n",
       "      <td>-1.5</td>\n",
       "      <td>1.5</td>\n",
       "    </tr>\n",
       "    <tr>\n",
       "      <th>1</th>\n",
       "      <td>23</td>\n",
       "      <td>20</td>\n",
       "      <td>-1.0</td>\n",
       "      <td>1.0</td>\n",
       "    </tr>\n",
       "    <tr>\n",
       "      <th>2</th>\n",
       "      <td>31</td>\n",
       "      <td>7</td>\n",
       "      <td>-1.5</td>\n",
       "      <td>1.5</td>\n",
       "    </tr>\n",
       "    <tr>\n",
       "      <th>3</th>\n",
       "      <td>19</td>\n",
       "      <td>12</td>\n",
       "      <td>-4.0</td>\n",
       "      <td>4.0</td>\n",
       "    </tr>\n",
       "    <tr>\n",
       "      <th>4</th>\n",
       "      <td>10</td>\n",
       "      <td>27</td>\n",
       "      <td>-4.0</td>\n",
       "      <td>4.0</td>\n",
       "    </tr>\n",
       "  </tbody>\n",
       "</table>\n",
       "</div>"
      ],
      "text/plain": [
       "   Home Score  Away Score  Home Line Open  Away Line Open\n",
       "0          35          38            -1.5             1.5\n",
       "1          23          20            -1.0             1.0\n",
       "2          31           7            -1.5             1.5\n",
       "3          19          12            -4.0             4.0\n",
       "4          10          27            -4.0             4.0"
      ]
     },
     "execution_count": 63,
     "metadata": {},
     "output_type": "execute_result"
    }
   ],
   "source": [
    "df = pd.read_excel('nfl.xlsx')\n",
    "df = df[['Home Score', 'Away Score', 'Home Line Open', 'Away Line Open']]\n",
    "df = df.dropna()\n",
    "df.head()"
   ]
  },
  {
   "attachments": {},
   "cell_type": "markdown",
   "metadata": {},
   "source": [
    "### Run simulation"
   ]
  },
  {
   "cell_type": "code",
   "execution_count": 66,
   "metadata": {},
   "outputs": [],
   "source": [
    "cash = 100_000\n",
    "wins = 0\n",
    "losses = 0\n",
    "bet_percentage = 0.1\n",
    "for _, row in df.iterrows():\n",
    "    winner = None\n",
    "    if row['Home Score'] > row['Away Score']:\n",
    "        winner = 'home'\n",
    "    elif row['Home Score'] < row['Away Score']:\n",
    "        winner = 'away'\n",
    "    else:\n",
    "        winner = 'draw'\n",
    "    line_to_use = {}\n",
    "    if row['Home Line Open'] < 0 or row['Away Line Open'] < 0:\n",
    "        if row['Home Line Open'] < row['Away Line Open']:\n",
    "            line_to_use['side'] = 'home'\n",
    "            line_to_use['line'] = row['Home Line Open']\n",
    "        else:\n",
    "            line_to_use['side'] = 'away'\n",
    "            line_to_use['line'] = row['Away Line Open']\n",
    "    if len(line_to_use) > 0:\n",
    "        bet = cash * bet_percentage\n",
    "        if line_to_use['side'] == winner:\n",
    "            wins += 1\n",
    "            winnings = bet / abs(line_to_use['line'])\n",
    "            cash += winnings\n",
    "        else:\n",
    "            losses += 1\n",
    "            cash -= bet\n"
   ]
  },
  {
   "attachments": {},
   "cell_type": "markdown",
   "metadata": {},
   "source": [
    "#### Results"
   ]
  },
  {
   "cell_type": "code",
   "execution_count": 67,
   "metadata": {},
   "outputs": [
    {
     "name": "stdout",
     "output_type": "stream",
     "text": [
      "cash: 0.0\n",
      "wins: 1565\n",
      "losses: 832\n"
     ]
    }
   ],
   "source": [
    "print('cash:', round(cash, 2))\n",
    "print('wins:', wins)\n",
    "print('losses:', losses)"
   ]
  },
  {
   "cell_type": "code",
   "execution_count": null,
   "metadata": {},
   "outputs": [],
   "source": []
  }
 ],
 "metadata": {
  "kernelspec": {
   "display_name": "venv",
   "language": "python",
   "name": "python3"
  },
  "language_info": {
   "codemirror_mode": {
    "name": "ipython",
    "version": 3
   },
   "file_extension": ".py",
   "mimetype": "text/x-python",
   "name": "python",
   "nbconvert_exporter": "python",
   "pygments_lexer": "ipython3",
   "version": "3.11.2"
  },
  "orig_nbformat": 4
 },
 "nbformat": 4,
 "nbformat_minor": 2
}
